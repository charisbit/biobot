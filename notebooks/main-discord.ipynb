{
 "cells": [
  {
   "cell_type": "code",
   "execution_count": null,
   "metadata": {},
   "outputs": [],
   "source": [
    "#|default_exp discord"
   ]
  },
  {
   "cell_type": "code",
   "execution_count": null,
   "metadata": {},
   "outputs": [],
   "source": [
    "#|hide\n",
    "import os\n",
    "notebooks_dir = os.getcwd()\n",
    "project_dir = os.path.dirname(notebooks_dir)\n",
    "\n",
    "import sys\n",
    "sys.path.append(project_dir)"
   ]
  },
  {
   "cell_type": "markdown",
   "metadata": {},
   "source": [
    "## Parameters"
   ]
  },
  {
   "cell_type": "code",
   "execution_count": null,
   "metadata": {},
   "outputs": [],
   "source": [
    "#|exports\n",
    "from biobot.constants import (\n",
    "    BOT_INVITE_URL,\n",
    "    DISCORD_BOT_TOKEN,\n",
    "    EXAMPLE_CONVOS,\n",
    "    ACTIVATE_THREAD_PREFX,\n",
    "    MAX_THREAD_MESSAGES,\n",
    "    SECONDS_DELAY_RECEIVING_MSG,\n",
    ")"
   ]
  },
  {
   "cell_type": "markdown",
   "metadata": {},
   "source": [
    "## [GPT Discord Bot](https://github.com/openai/gpt-discord-bot)\n",
    "### Demo"
   ]
  },
  {
   "cell_type": "code",
   "execution_count": null,
   "metadata": {},
   "outputs": [],
   "source": [
    "%%bash\n",
    "git clone https://github.com/openai/gpt-discord-bot.git gpt-discord-bot_git"
   ]
  },
  {
   "cell_type": "markdown",
   "metadata": {},
   "source": [
    "### Initialization"
   ]
  },
  {
   "cell_type": "code",
   "execution_count": null,
   "metadata": {},
   "outputs": [],
   "source": [
    "#|exporti\n",
    "from biobot.base import Message, Conversation\n",
    "import asyncio\n",
    "from biobot.utils import (\n",
    "    logger,\n",
    "    should_block,\n",
    "    close_thread,\n",
    "    is_last_message_stale,\n",
    "    discord_message_to_message,\n",
    ")\n",
    "from biobot import completion\n",
    "from biobot.completion import generate_completion_response, process_response\n",
    "from biobot.moderation import (\n",
    "    moderate_message,\n",
    "    send_moderation_blocked_message,\n",
    "    send_moderation_flagged_message,\n",
    ")"
   ]
  },
  {
   "cell_type": "code",
   "execution_count": null,
   "metadata": {},
   "outputs": [],
   "source": [
    "#|exporti\n",
    "import logging"
   ]
  },
  {
   "cell_type": "code",
   "execution_count": null,
   "metadata": {},
   "outputs": [],
   "source": [
    "#|exporti\n",
    "logging.basicConfig(\n",
    "    format=\"[%(asctime)s] [%(filename)s:%(lineno)d] %(message)s\", level=logging.INFO\n",
    ")"
   ]
  },
  {
   "cell_type": "code",
   "execution_count": null,
   "metadata": {},
   "outputs": [],
   "source": [
    "#|exporti\n",
    "import discord\n",
    "from discord import Message as DiscordMessage"
   ]
  },
  {
   "cell_type": "code",
   "execution_count": null,
   "metadata": {},
   "outputs": [
    {
     "name": "stderr",
     "output_type": "stream",
     "text": [
      "[2023-03-13 10:22:11,728] [client.py:263] PyNaCl is not installed, voice will NOT be supported\n"
     ]
    }
   ],
   "source": [
    "#|exporti\n",
    "intents = discord.Intents.default()\n",
    "intents.message_content = True\n",
    "\n",
    "client = discord.Client(intents=intents)\n",
    "tree = discord.app_commands.CommandTree(client)"
   ]
  },
  {
   "cell_type": "code",
   "execution_count": null,
   "metadata": {},
   "outputs": [],
   "source": [
    "#|exports\n",
    "@client.event\n",
    "async def on_ready():\n",
    "    logger.info(f\"We have logged in as {client.user}. Invite URL: {BOT_INVITE_URL}\")\n",
    "    completion.MY_BOT_NAME = client.user.name\n",
    "    completion.MY_BOT_EXAMPLE_CONVOS = []\n",
    "    for c in EXAMPLE_CONVOS:\n",
    "        messages = []\n",
    "        for m in c.messages:\n",
    "            if m.user == \"Lenard\":\n",
    "                messages.append(Message(user=client.user.name, text=m.text))\n",
    "            else:\n",
    "                messages.append(m)\n",
    "        completion.MY_BOT_EXAMPLE_CONVOS.append(Conversation(messages=messages))\n",
    "    await tree.sync()"
   ]
  },
  {
   "cell_type": "code",
   "execution_count": null,
   "metadata": {},
   "outputs": [],
   "source": [
    "#|exports\n",
    "# /chat message:\n",
    "@tree.command(name=\"chat\", description=\"Create a new thread for conversation\")\n",
    "@discord.app_commands.checks.has_permissions(send_messages=True)\n",
    "@discord.app_commands.checks.has_permissions(view_channel=True)\n",
    "@discord.app_commands.checks.bot_has_permissions(send_messages=True)\n",
    "@discord.app_commands.checks.bot_has_permissions(view_channel=True)\n",
    "@discord.app_commands.checks.bot_has_permissions(manage_threads=True)\n",
    "async def chat_command(int: discord.Interaction, message: str):\n",
    "    try:\n",
    "        # only support creating thread in text channel\n",
    "        if not isinstance(int.channel, discord.TextChannel):\n",
    "            return\n",
    "\n",
    "        # block servers not in allow list\n",
    "        if should_block(guild=int.guild):\n",
    "            return\n",
    "\n",
    "        user = int.user\n",
    "        logger.info(f\"Chat command by {user} {message[:20]}\")\n",
    "        try:\n",
    "            # moderate the message\n",
    "            flagged_str, blocked_str = moderate_message(message=message, user=user)\n",
    "            await send_moderation_blocked_message(\n",
    "                guild=int.guild,\n",
    "                user=user,\n",
    "                blocked_str=blocked_str,\n",
    "                message=message,\n",
    "            )\n",
    "            if len(blocked_str) > 0:\n",
    "                # message was blocked\n",
    "                await int.response.send_message(\n",
    "                    f\"Your prompt has been blocked by moderation.\\n{message}\",\n",
    "                    ephemeral=True,\n",
    "                )\n",
    "                return\n",
    "\n",
    "            embed = discord.Embed(\n",
    "                description=f\"<@{user.id}> wants to chat! 🤖💬\",\n",
    "                color=discord.Color.green(),\n",
    "            )\n",
    "            embed.add_field(name=user.name, value=message)\n",
    "\n",
    "            if len(flagged_str) > 0:\n",
    "                # message was flagged\n",
    "                embed.color = discord.Color.yellow()\n",
    "                embed.title = \"⚠️ This prompt was flagged by moderation.\"\n",
    "\n",
    "            await int.response.send_message(embed=embed)\n",
    "            response = await int.original_response()\n",
    "\n",
    "            await send_moderation_flagged_message(\n",
    "                guild=int.guild,\n",
    "                user=user,\n",
    "                flagged_str=flagged_str,\n",
    "                message=message,\n",
    "                url=response.jump_url,\n",
    "            )\n",
    "        except Exception as e:\n",
    "            logger.exception(e)\n",
    "            await int.response.send_message(\n",
    "                f\"Failed to start chat {str(e)}\", ephemeral=True\n",
    "            )\n",
    "            return\n",
    "\n",
    "        # create the thread\n",
    "        thread = await response.create_thread(\n",
    "            name=f\"{ACTIVATE_THREAD_PREFX} {user.name[:20]} - {message[:30]}\",\n",
    "            slowmode_delay=1,\n",
    "            reason=\"gpt-bot\",\n",
    "            auto_archive_duration=60,\n",
    "        )\n",
    "        async with thread.typing():\n",
    "            # fetch completion\n",
    "            messages = [Message(user=user.name, text=message)]\n",
    "            response_data = await generate_completion_response(\n",
    "                messages=messages, user=user\n",
    "            )\n",
    "            # send the result\n",
    "            await process_response(\n",
    "                user=user, thread=thread, response_data=response_data\n",
    "            )\n",
    "    except Exception as e:\n",
    "        logger.exception(e)\n",
    "        await int.response.send_message(\n",
    "            f\"Failed to start chat {str(e)}\", ephemeral=True\n",
    "        )"
   ]
  },
  {
   "cell_type": "code",
   "execution_count": null,
   "metadata": {},
   "outputs": [],
   "source": [
    "#|exports\n",
    "# calls for each message\n",
    "@client.event\n",
    "async def on_message(message: DiscordMessage):\n",
    "    try:\n",
    "        # block servers not in allow list\n",
    "        if should_block(guild=message.guild):\n",
    "            return\n",
    "\n",
    "        # ignore messages from the bot\n",
    "        if message.author == client.user:\n",
    "            return\n",
    "\n",
    "        # ignore messages not in a thread\n",
    "        channel = message.channel\n",
    "        if not isinstance(channel, discord.Thread):\n",
    "            return\n",
    "\n",
    "        # ignore threads not created by the bot\n",
    "        thread = channel\n",
    "        if thread.owner_id != client.user.id:\n",
    "            return\n",
    "\n",
    "        # ignore threads that are archived locked or title is not what we want\n",
    "        if (\n",
    "            thread.archived\n",
    "            or thread.locked\n",
    "            or not thread.name.startswith(ACTIVATE_THREAD_PREFX)\n",
    "        ):\n",
    "            # ignore this thread\n",
    "            return\n",
    "\n",
    "        if thread.message_count > MAX_THREAD_MESSAGES:\n",
    "            # too many messages, no longer going to reply\n",
    "            await close_thread(thread=thread)\n",
    "            return\n",
    "\n",
    "        # moderate the message\n",
    "        flagged_str, blocked_str = moderate_message(\n",
    "            message=message.content, user=message.author\n",
    "        )\n",
    "        await send_moderation_blocked_message(\n",
    "            guild=message.guild,\n",
    "            user=message.author,\n",
    "            blocked_str=blocked_str,\n",
    "            message=message.content,\n",
    "        )\n",
    "        if len(blocked_str) > 0:\n",
    "            try:\n",
    "                await message.delete()\n",
    "                await thread.send(\n",
    "                    embed=discord.Embed(\n",
    "                        description=f\"❌ **{message.author}'s message has been deleted by moderation.**\",\n",
    "                        color=discord.Color.red(),\n",
    "                    )\n",
    "                )\n",
    "                return\n",
    "            except Exception as e:\n",
    "                await thread.send(\n",
    "                    embed=discord.Embed(\n",
    "                        description=f\"❌ **{message.author}'s message has been blocked by moderation but could not be deleted. Missing Manage Messages permission in this Channel.**\",\n",
    "                        color=discord.Color.red(),\n",
    "                    )\n",
    "                )\n",
    "                return\n",
    "        await send_moderation_flagged_message(\n",
    "            guild=message.guild,\n",
    "            user=message.author,\n",
    "            flagged_str=flagged_str,\n",
    "            message=message.content,\n",
    "            url=message.jump_url,\n",
    "        )\n",
    "        if len(flagged_str) > 0:\n",
    "            await thread.send(\n",
    "                embed=discord.Embed(\n",
    "                    description=f\"⚠️ **{message.author}'s message has been flagged by moderation.**\",\n",
    "                    color=discord.Color.yellow(),\n",
    "                )\n",
    "            )\n",
    "\n",
    "        # wait a bit in case user has more messages\n",
    "        if SECONDS_DELAY_RECEIVING_MSG > 0:\n",
    "            await asyncio.sleep(SECONDS_DELAY_RECEIVING_MSG)\n",
    "            if is_last_message_stale(\n",
    "                interaction_message=message,\n",
    "                last_message=thread.last_message,\n",
    "                bot_id=client.user.id,\n",
    "            ):\n",
    "                # there is another message, so ignore this one\n",
    "                return\n",
    "\n",
    "        logger.info(\n",
    "            f\"Thread message to process - {message.author}: {message.content[:50]} - {thread.name} {thread.jump_url}\"\n",
    "        )\n",
    "\n",
    "        channel_messages = [\n",
    "            discord_message_to_message(message)\n",
    "            async for message in thread.history(limit=MAX_THREAD_MESSAGES)\n",
    "        ]\n",
    "        channel_messages = [x for x in channel_messages if x is not None]\n",
    "        channel_messages.reverse()\n",
    "\n",
    "        # generate the response\n",
    "        async with thread.typing():\n",
    "            response_data = await generate_completion_response(\n",
    "                messages=channel_messages, user=message.author\n",
    "            )\n",
    "\n",
    "        if is_last_message_stale(\n",
    "            interaction_message=message,\n",
    "            last_message=thread.last_message,\n",
    "            bot_id=client.user.id,\n",
    "        ):\n",
    "            # there is another message and its not from us, so ignore this response\n",
    "            return\n",
    "\n",
    "        # send response\n",
    "        await process_response(\n",
    "            user=message.author, thread=thread, response_data=response_data\n",
    "        )\n",
    "    except Exception as e:\n",
    "        logger.exception(e)"
   ]
  },
  {
   "cell_type": "markdown",
   "metadata": {},
   "source": [
    "## Start Chatting"
   ]
  },
  {
   "cell_type": "code",
   "execution_count": null,
   "metadata": {},
   "outputs": [
    {
     "ename": "RuntimeError",
     "evalue": "asyncio.run() cannot be called from a running event loop",
     "output_type": "error",
     "traceback": [
      "\u001b[0;31m---------------------------------------------------------------------------\u001b[0m",
      "\u001b[0;31mRuntimeError\u001b[0m                              Traceback (most recent call last)",
      "Cell \u001b[0;32mIn[12], line 3\u001b[0m\n\u001b[1;32m      1\u001b[0m \u001b[38;5;66;03m#|exporti\u001b[39;00m\n\u001b[1;32m      2\u001b[0m \u001b[38;5;28;01mif\u001b[39;00m \u001b[38;5;18m__name__\u001b[39m\u001b[38;5;241m==\u001b[39m  \u001b[38;5;124m'\u001b[39m\u001b[38;5;124m__main__\u001b[39m\u001b[38;5;124m'\u001b[39m:\n\u001b[0;32m----> 3\u001b[0m     \u001b[43mclient\u001b[49m\u001b[38;5;241;43m.\u001b[39;49m\u001b[43mrun\u001b[49m\u001b[43m(\u001b[49m\u001b[43mDISCORD_BOT_TOKEN\u001b[49m\u001b[43m)\u001b[49m\n",
      "File \u001b[0;32m/usr/local/anaconda3/envs/biobot/lib/python3.10/site-packages/discord/client.py:828\u001b[0m, in \u001b[0;36mClient.run\u001b[0;34m(self, token, reconnect, log_handler, log_formatter, log_level, root_logger)\u001b[0m\n\u001b[1;32m    820\u001b[0m     utils\u001b[38;5;241m.\u001b[39msetup_logging(\n\u001b[1;32m    821\u001b[0m         handler\u001b[38;5;241m=\u001b[39mlog_handler,\n\u001b[1;32m    822\u001b[0m         formatter\u001b[38;5;241m=\u001b[39mlog_formatter,\n\u001b[1;32m    823\u001b[0m         level\u001b[38;5;241m=\u001b[39mlog_level,\n\u001b[1;32m    824\u001b[0m         root\u001b[38;5;241m=\u001b[39mroot_logger,\n\u001b[1;32m    825\u001b[0m     )\n\u001b[1;32m    827\u001b[0m \u001b[38;5;28;01mtry\u001b[39;00m:\n\u001b[0;32m--> 828\u001b[0m     \u001b[43masyncio\u001b[49m\u001b[38;5;241;43m.\u001b[39;49m\u001b[43mrun\u001b[49m\u001b[43m(\u001b[49m\u001b[43mrunner\u001b[49m\u001b[43m(\u001b[49m\u001b[43m)\u001b[49m\u001b[43m)\u001b[49m\n\u001b[1;32m    829\u001b[0m \u001b[38;5;28;01mexcept\u001b[39;00m \u001b[38;5;167;01mKeyboardInterrupt\u001b[39;00m:\n\u001b[1;32m    830\u001b[0m     \u001b[38;5;66;03m# nothing to do here\u001b[39;00m\n\u001b[1;32m    831\u001b[0m     \u001b[38;5;66;03m# `asyncio.run` handles the loop cleanup\u001b[39;00m\n\u001b[1;32m    832\u001b[0m     \u001b[38;5;66;03m# and `self.start` closes all sockets and the HTTPClient instance.\u001b[39;00m\n\u001b[1;32m    833\u001b[0m     \u001b[38;5;28;01mreturn\u001b[39;00m\n",
      "File \u001b[0;32m/usr/local/anaconda3/envs/biobot/lib/python3.10/asyncio/runners.py:33\u001b[0m, in \u001b[0;36mrun\u001b[0;34m(main, debug)\u001b[0m\n\u001b[1;32m      9\u001b[0m \u001b[38;5;124;03m\"\"\"Execute the coroutine and return the result.\u001b[39;00m\n\u001b[1;32m     10\u001b[0m \n\u001b[1;32m     11\u001b[0m \u001b[38;5;124;03mThis function runs the passed coroutine, taking care of\u001b[39;00m\n\u001b[0;32m   (...)\u001b[0m\n\u001b[1;32m     30\u001b[0m \u001b[38;5;124;03m    asyncio.run(main())\u001b[39;00m\n\u001b[1;32m     31\u001b[0m \u001b[38;5;124;03m\"\"\"\u001b[39;00m\n\u001b[1;32m     32\u001b[0m \u001b[38;5;28;01mif\u001b[39;00m events\u001b[38;5;241m.\u001b[39m_get_running_loop() \u001b[38;5;129;01mis\u001b[39;00m \u001b[38;5;129;01mnot\u001b[39;00m \u001b[38;5;28;01mNone\u001b[39;00m:\n\u001b[0;32m---> 33\u001b[0m     \u001b[38;5;28;01mraise\u001b[39;00m \u001b[38;5;167;01mRuntimeError\u001b[39;00m(\n\u001b[1;32m     34\u001b[0m         \u001b[38;5;124m\"\u001b[39m\u001b[38;5;124masyncio.run() cannot be called from a running event loop\u001b[39m\u001b[38;5;124m\"\u001b[39m)\n\u001b[1;32m     36\u001b[0m \u001b[38;5;28;01mif\u001b[39;00m \u001b[38;5;129;01mnot\u001b[39;00m coroutines\u001b[38;5;241m.\u001b[39miscoroutine(main):\n\u001b[1;32m     37\u001b[0m     \u001b[38;5;28;01mraise\u001b[39;00m \u001b[38;5;167;01mValueError\u001b[39;00m(\u001b[38;5;124m\"\u001b[39m\u001b[38;5;124ma coroutine was expected, got \u001b[39m\u001b[38;5;132;01m{!r}\u001b[39;00m\u001b[38;5;124m\"\u001b[39m\u001b[38;5;241m.\u001b[39mformat(main))\n",
      "\u001b[0;31mRuntimeError\u001b[0m: asyncio.run() cannot be called from a running event loop"
     ]
    }
   ],
   "source": [
    "#|exporti\n",
    "if __name__==  '__main__':\n",
    "    client.run(DISCORD_BOT_TOKEN)"
   ]
  },
  {
   "cell_type": "code",
   "execution_count": null,
   "metadata": {},
   "outputs": [],
   "source": [
    "#|hide\n",
    "from nbdev import nbdev_export; nbdev_export()"
   ]
  }
 ],
 "metadata": {
  "kernelspec": {
   "display_name": "python3",
   "language": "python",
   "name": "python3"
  }
 },
 "nbformat": 4,
 "nbformat_minor": 4
}

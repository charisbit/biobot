{
 "cells": [
  {
   "cell_type": "code",
   "execution_count": null,
   "metadata": {},
   "outputs": [],
   "source": [
    "# default_exp yowsup"
   ]
  },
  {
   "cell_type": "code",
   "execution_count": null,
   "metadata": {},
   "outputs": [],
   "source": [
    "# hide\n",
    "import os\n",
    "notebooks_dir = os.getcwd()\n",
    "project_dir = os.path.dirname(notebooks_dir)\n",
    "\n",
    "import sys\n",
    "sys.path.append(project_dir)"
   ]
  },
  {
   "cell_type": "markdown",
   "metadata": {},
   "source": [
    "## Parameters"
   ]
  },
  {
   "cell_type": "code",
   "execution_count": null,
   "metadata": {},
   "outputs": [],
   "source": [
    "# exports\n",
    "CREDENTIALS = ('phone', 'password') # replace with your phone and password"
   ]
  },
  {
   "cell_type": "markdown",
   "metadata": {},
   "source": [
    "## [Yowsup](https://github.com/tgalal/yowsup)\n",
    "### Installation"
   ]
  },
  {
   "cell_type": "code",
   "execution_count": null,
   "metadata": {},
   "outputs": [],
   "source": [
    "%%bash\n",
    "git clone https://github.com/tgalal/yowsup.git yowsup_git"
   ]
  },
  {
   "cell_type": "code",
   "execution_count": null,
   "metadata": {},
   "outputs": [],
   "source": [
    "%%bash\n",
    "cd yowsup_git\n",
    "python setup.py install"
   ]
  },
  {
   "cell_type": "code",
   "execution_count": null,
   "metadata": {},
   "outputs": [],
   "source": [
    "%%bash\n",
    "pip install protobuf==3.20.0"
   ]
  },
  {
   "cell_type": "code",
   "execution_count": null,
   "metadata": {},
   "outputs": [],
   "source": [
    "%%bash\n",
    "pip install --upgrade protobuf"
   ]
  },
  {
   "cell_type": "markdown",
   "metadata": {},
   "source": [
    "### [Sample Application](https://github.com/tgalal/yowsup/wiki/Sample-Application)"
   ]
  },
  {
   "cell_type": "code",
   "execution_count": null,
   "metadata": {},
   "outputs": [],
   "source": [
    "# exports\n",
    "from yowsup.layers.interface                           import YowInterfaceLayer, ProtocolEntityCallback\n",
    "from yowsup.layers.protocol_messages.protocolentities  import TextMessageProtocolEntity\n",
    "from yowsup.layers.protocol_receipts.protocolentities  import OutgoingReceiptProtocolEntity\n",
    "from yowsup.layers.protocol_acks.protocolentities      import OutgoingAckProtocolEntity\n",
    "\n",
    "\n",
    "class EchoLayer(YowInterfaceLayer):\n",
    "\n",
    "    @ProtocolEntityCallback('message')\n",
    "    def onMessage(self, messageProtocolEntity):\n",
    "        #send receipt otherwise we keep receiving the same message over and over\n",
    "\n",
    "        if True:\n",
    "            receipt = OutgoingReceiptProtocolEntity(messageProtocolEntity.getId(), messageProtocolEntity.getFrom(), 'read', messageProtocolEntity.getParticipant())\n",
    "            \n",
    "            outgoingMessageProtocolEntity = TextMessageProtocolEntity(\n",
    "                messageProtocolEntity.getBody(),\n",
    "                to = messageProtocolEntity.getFrom())\n",
    "\n",
    "            self.toLower(receipt)\n",
    "            self.toLower(outgoingMessageProtocolEntity)\n",
    "\n",
    "    @ProtocolEntityCallback('receipt')\n",
    "    def onReceipt(self, entity):\n",
    "        ack = OutgoingAckProtocolEntity(entity.getId(), 'receipt', entity.getType(), entity.getFrom())\n",
    "        self.toLower(ack)"
   ]
  },
  {
   "cell_type": "markdown",
   "metadata": {},
   "source": [
    "## Start Chatting"
   ]
  },
  {
   "cell_type": "code",
   "execution_count": null,
   "metadata": {},
   "outputs": [],
   "source": [
    "# exporti\n",
    "from yowsup.layers                             import YowParallelLayer\n",
    "from yowsup.layers.auth                        import YowAuthenticationProtocolLayer\n",
    "from yowsup.layers.protocol_messages           import YowMessagesProtocolLayer\n",
    "from yowsup.layers.protocol_receipts           import YowReceiptProtocolLayer\n",
    "from yowsup.layers.protocol_acks               import YowAckProtocolLayer\n",
    "from yowsup.layers.network                     import YowNetworkLayer\n",
    "from yowsup.layers.coder                       import YowCoderLayer\n",
    "from yowsup.stacks import YowStack\n",
    "from yowsup.common import YowConstants\n",
    "from yowsup.layers import YowLayerEvent\n",
    "from yowsup.stacks import YowStack, YOWSUP_CORE_LAYERS\n",
    "from yowsup.layers.axolotl                     import AxolotlControlLayer, AxolotlSendLayer, AxolotlReceivelayer\n",
    "from yowsup.env import YowsupEnv\n",
    "\n",
    "\n",
    "if __name__==  '__main__':\n",
    "    layers = (\n",
    "        EchoLayer,\n",
    "        YowParallelLayer([YowAuthenticationProtocolLayer, YowMessagesProtocolLayer, YowReceiptProtocolLayer,\n",
    "                          YowAckProtocolLayer]),\n",
    "        AxolotlControlLayer,\n",
    "        YowParallelLayer((AxolotlSendLayer, AxolotlReceivelayer)),\n",
    "    ) + YOWSUP_CORE_LAYERS\n",
    "\n",
    "    stack = YowStack(layers)\n",
    "    stack.setProp(YowAuthenticationProtocolLayer.PROP_CREDENTIALS, CREDENTIALS)         #setting credentials\n",
    "    stack.setProp(YowNetworkLayer.PROP_ENDPOINT, YowConstants.ENDPOINTS[0])    #whatsapp server address\n",
    "    stack.setProp(YowCoderLayer.PROP_DOMAIN, YowConstants.DOMAIN)              \n",
    "    stack.setProp(YowCoderLayer.PROP_RESOURCE, YowsupEnv.getCurrent().getResource())          #info about us as WhatsApp client\n",
    "\n",
    "    stack.broadcastEvent(YowLayerEvent(YowNetworkLayer.EVENT_STATE_CONNECT))   #sending the connect signal\n",
    "\n",
    "    stack.loop() #this is the program mainloop"
   ]
  },
  {
   "cell_type": "code",
   "execution_count": null,
   "metadata": {},
   "outputs": [],
   "source": [
    "# hide\n",
    "from nbdev.export import notebook2script; notebook2script()"
   ]
  }
 ],
 "metadata": {
  "kernelspec": {
   "display_name": "python3",
   "language": "python",
   "name": "python3"
  }
 },
 "nbformat": 4,
 "nbformat_minor": 4
}

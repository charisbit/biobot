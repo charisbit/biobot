{
 "cells": [
  {
   "cell_type": "code",
   "execution_count": null,
   "id": "06ec7fd3-672d-47b5-862d-a5663d4fa065",
   "metadata": {},
   "outputs": [],
   "source": [
    "#|default_exp whatsapp"
   ]
  },
  {
   "cell_type": "code",
   "execution_count": null,
   "id": "5373d144-f871-42cd-ae83-4bd683165b4b",
   "metadata": {},
   "outputs": [],
   "source": [
    "#|hide\n",
    "import os\n",
    "notebooks_dir = os.getcwd()\n",
    "project_dir = os.path.dirname(notebooks_dir)\n",
    "\n",
    "import sys\n",
    "sys.path.append(project_dir)"
   ]
  },
  {
   "cell_type": "code",
   "execution_count": null,
   "id": "aa101397-1969-4eaf-84c2-9dc8876b15a7",
   "metadata": {},
   "outputs": [],
   "source": [
    "#|exporti\n",
    "from flask import Flask\n",
    "from revChatGPT.V1 import Chatbot, configure\n",
    "\n",
    "\n",
    "app = Flask(__name__)\n",
    "bot = Chatbot(\n",
    "    config = configure(),\n",
    "    conversation_id = 'fdf52ab3-f8c1-450f-86f2-5a25d43fc48d',\n",
    "    lazy_loading = True\n",
    ")\n",
    "\n",
    "\n",
    "@app.route('/<string:prompt>')\n",
    "def answer(prompt):\n",
    "    for response in bot.ask(prompt):\n",
    "        pass\n",
    "    return response['message']\n",
    "\n",
    "\n",
    "if __name__ == '__main__':\n",
    "    app.run()"
   ]
  },
  {
   "cell_type": "code",
   "execution_count": null,
   "id": "a685d222-a60e-49a8-af16-f2264f703034",
   "metadata": {},
   "outputs": [],
   "source": [
    "#|hide\n",
    "from nbdev import nbdev_export; nbdev_export()"
   ]
  }
 ],
 "metadata": {
  "kernelspec": {
   "display_name": "Python 3 (ipykernel)",
   "language": "python",
   "name": "python3"
  }
 },
 "nbformat": 4,
 "nbformat_minor": 5
}

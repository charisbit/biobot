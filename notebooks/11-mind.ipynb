{
 "cells": [
  {
   "cell_type": "code",
   "execution_count": null,
   "id": "06ec7fd3-672d-47b5-862d-a5663d4fa065",
   "metadata": {},
   "outputs": [],
   "source": [
    "#|default_exp whatsapp"
   ]
  },
  {
   "cell_type": "code",
   "execution_count": null,
   "id": "5373d144-f871-42cd-ae83-4bd683165b4b",
   "metadata": {},
   "outputs": [],
   "source": [
    "#|hide\n",
    "import os\n",
    "notebooks_dir = os.getcwd()\n",
    "project_dir = os.path.dirname(notebooks_dir)\n",
    "\n",
    "import sys\n",
    "sys.path.append(project_dir)"
   ]
  },
  {
   "cell_type": "code",
   "execution_count": null,
   "id": "eb20d833-019e-4a6d-8869-7fbde12cc987",
   "metadata": {},
   "outputs": [],
   "source": [
    "#|exporti\n",
    "from flask import Flask, request\n",
    "app = Flask(__name__)"
   ]
  },
  {
   "cell_type": "code",
   "execution_count": null,
   "id": "334e06b2-d1e2-4d05-b529-c9c83bc55632",
   "metadata": {},
   "outputs": [],
   "source": [
    "#|exporti\n",
    "import openai"
   ]
  },
  {
   "cell_type": "code",
   "execution_count": null,
   "id": "2e92685f-e87e-4104-a005-29ad238a4098",
   "metadata": {},
   "outputs": [],
   "source": [
    "#|exporti\n",
    "@app.route('/')\n",
    "def answer():\n",
    "    prompt = request.args.get('q')\n",
    "    res = openai.Completion.create(\n",
    "        engine = 'text-davinci-003',\n",
    "        prompt = f'{prompt}\\n',\n",
    "        max_tokens = 1024,\n",
    "        temperature = 0,\n",
    "        top_p = 0.9,\n",
    "        frequency_penalty = 0,\n",
    "        presence_penalty = 0,\n",
    "        stop = None,\n",
    "    )\n",
    "    return res.get('choices', [{}])[0].get('text', '').strip()"
   ]
  },
  {
   "cell_type": "code",
   "execution_count": null,
   "id": "942ed1f7-69c5-45e0-baf2-dc6a4b9e80c9",
   "metadata": {},
   "outputs": [
    {
     "name": "stdout",
     "output_type": "stream",
     "text": [
      " * Serving Flask app '__main__'\n",
      " * Debug mode: off\n"
     ]
    },
    {
     "name": "stderr",
     "output_type": "stream",
     "text": [
      "WARNING: This is a development server. Do not use it in a production deployment. Use a production WSGI server instead.\n",
      " * Running on http://127.0.0.1:5000\n",
      "Press CTRL+C to quit\n",
      "127.0.0.1 - - [15/Mar/2023 14:39:49] \"GET /马可福音%2012%3A30%0A你要全心、全魂、全心思并全力，爱主你的神。 HTTP/1.1\" 200 -\n"
     ]
    }
   ],
   "source": [
    "#|exporti\n",
    "if __name__ == '__main__':\n",
    "    app.run()"
   ]
  },
  {
   "cell_type": "code",
   "execution_count": null,
   "id": "a685d222-a60e-49a8-af16-f2264f703034",
   "metadata": {},
   "outputs": [],
   "source": [
    "#|hide\n",
    "from nbdev import nbdev_export; nbdev_export()"
   ]
  }
 ],
 "metadata": {
  "kernelspec": {
   "display_name": "python3",
   "language": "python",
   "name": "python3"
  }
 },
 "nbformat": 4,
 "nbformat_minor": 5
}

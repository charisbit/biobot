{
 "cells": [
  {
   "cell_type": "code",
   "execution_count": null,
   "id": "06ec7fd3-672d-47b5-862d-a5663d4fa065",
   "metadata": {},
   "outputs": [],
   "source": [
    "#|default_exp whatsapp"
   ]
  },
  {
   "cell_type": "code",
   "execution_count": null,
   "id": "5373d144-f871-42cd-ae83-4bd683165b4b",
   "metadata": {},
   "outputs": [],
   "source": [
    "#|hide\n",
    "import os\n",
    "notebooks_dir = os.getcwd()\n",
    "project_dir = os.path.dirname(notebooks_dir)\n",
    "\n",
    "import sys\n",
    "sys.path.append(project_dir)"
   ]
  },
  {
   "cell_type": "code",
   "execution_count": null,
   "id": "eb20d833-019e-4a6d-8869-7fbde12cc987",
   "metadata": {},
   "outputs": [],
   "source": [
    "#|exporti\n",
    "from flask import Flask, request\n",
    "app = Flask(__name__)"
   ]
  },
  {
   "cell_type": "code",
   "execution_count": null,
   "id": "334e06b2-d1e2-4d05-b529-c9c83bc55632",
   "metadata": {},
   "outputs": [],
   "source": [
    "#|exporti\n",
    "import openai"
   ]
  },
  {
   "cell_type": "code",
   "execution_count": null,
   "id": "a37e7f43-a9bd-4fa8-81b0-d5c13c096ce9",
   "metadata": {},
   "outputs": [],
   "source": [
    "#|exporti\n",
    "prompt = ''\n",
    "response = ''\n",
    "\n",
    "def test_completion(mock_openai):\n",
    "    res = openai.Completion.create(\n",
    "        engine = 'text-davinci-003',\n",
    "        prompt = f'{prompt}\\n',\n",
    "        max_tokens = 1024,\n",
    "        temperature = 0,\n",
    "        top_p = 0.9,\n",
    "        frequency_penalty = 0,\n",
    "        presence_penalty = 0,\n",
    "        stop = None,\n",
    "    )\n",
    "    global response\n",
    "    response = res.get('choices', [{}])[0].get('text', '').strip()\n",
    "    assert True"
   ]
  },
  {
   "cell_type": "code",
   "execution_count": null,
   "id": "2e92685f-e87e-4104-a005-29ad238a4098",
   "metadata": {},
   "outputs": [],
   "source": [
    "#|exporti\n",
    "@app.route('/openai')\n",
    "def answer():\n",
    "    global prompt\n",
    "    prompt = request.args.get('q')\n",
    "    test_completion(None)\n",
    "    return response"
   ]
  },
  {
   "cell_type": "code",
   "execution_count": null,
   "id": "6babc1d5-893f-475a-a70d-13addc8ac02d",
   "metadata": {},
   "outputs": [],
   "source": [
    "#|exporti\n",
    "import ipymock\n",
    "import ipymock.browser"
   ]
  },
  {
   "cell_type": "code",
   "execution_count": null,
   "id": "b59c3c99-43f4-4faf-8b46-ab0eb5f0e00a",
   "metadata": {},
   "outputs": [],
   "source": [
    "#|exporti\n",
    "@app.route('/')\n",
    "def free_answer():\n",
    "    global prompt\n",
    "    prompt = request.args.get('q')\n",
    "    ipymock.do(\n",
    "        mock_openai = ipymock.browser.mock_openai,\n",
    "        test_completion = test_completion,\n",
    "    )\n",
    "    return response"
   ]
  },
  {
   "cell_type": "code",
   "execution_count": null,
   "id": "942ed1f7-69c5-45e0-baf2-dc6a4b9e80c9",
   "metadata": {
    "tags": [
     "loop"
    ]
   },
   "outputs": [
    {
     "name": "stdout",
     "output_type": "stream",
     "text": [
      " * Serving Flask app '__main__'\n",
      " * Debug mode: off\n"
     ]
    },
    {
     "name": "stderr",
     "output_type": "stream",
     "text": [
      "WARNING: This is a development server. Do not use it in a production deployment. Use a production WSGI server instead.\n",
      " * Running on http://127.0.0.1:5000\n",
      "Press CTRL+C to quit\n"
     ]
    },
    {
     "name": "stdout",
     "output_type": "stream",
     "text": [
      "\n",
      "=> no.0  notebooks::test_completion  setup  passed\n",
      "\n"
     ]
    },
    {
     "name": "stderr",
     "output_type": "stream",
     "text": [
      "127.0.0.1 - - [27/Apr/2023 09:51:58] \"GET /?q=Our%20way%20is%20a%20way%20of%20risking%20life%20to%20eternal%20life. HTTP/1.1\" 200 -\n"
     ]
    },
    {
     "name": "stdout",
     "output_type": "stream",
     "text": [
      "=> no.0  notebooks::test_completion  runtest  passed\n",
      "\n"
     ]
    }
   ],
   "source": [
    "#|exporti\n",
    "if __name__ == '__main__':\n",
    "    app.run(threaded=False)"
   ]
  }
 ],
 "metadata": {
  "kernelspec": {
   "display_name": "Python 3 (ipykernel)",
   "language": "python",
   "name": "python3"
  },
  "language_info": {
   "codemirror_mode": {
    "name": "ipython",
    "version": 3
   },
   "file_extension": ".py",
   "mimetype": "text/x-python",
   "name": "python",
   "nbconvert_exporter": "python",
   "pygments_lexer": "ipython3",
   "version": "3.10.9"
  }
 },
 "nbformat": 4,
 "nbformat_minor": 5
}

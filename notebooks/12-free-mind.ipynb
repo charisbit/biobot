{
 "cells": [
  {
   "cell_type": "code",
   "execution_count": null,
   "id": "06ec7fd3-672d-47b5-862d-a5663d4fa065",
   "metadata": {},
   "outputs": [],
   "source": [
    "#|default_exp whatsapp_free"
   ]
  },
  {
   "cell_type": "code",
   "execution_count": null,
   "id": "5373d144-f871-42cd-ae83-4bd683165b4b",
   "metadata": {},
   "outputs": [],
   "source": [
    "#|hide\n",
    "import os\n",
    "notebooks_dir = os.getcwd()\n",
    "project_dir = os.path.dirname(notebooks_dir)\n",
    "\n",
    "import sys\n",
    "sys.path.append(project_dir)"
   ]
  },
  {
   "cell_type": "code",
   "execution_count": null,
   "id": "3da72b56-df00-46f0-bce7-df4296ab1a7f",
   "metadata": {},
   "outputs": [],
   "source": [
    "#|exporti\n",
    "from flask import Flask, request\n",
    "from ipymock.mock import start_conversation as ask"
   ]
  },
  {
   "cell_type": "code",
   "execution_count": null,
   "id": "c569b259-0e1c-4581-8684-7300ca83fbf8",
   "metadata": {},
   "outputs": [],
   "source": [
    "#|exporti\n",
    "app = Flask(__name__)\n",
    "\n",
    "@app.route('/')\n",
    "def answer():\n",
    "    prompt = request.args.get('q')\n",
    "    for response in ask(prompt):\n",
    "        pass\n",
    "    return response"
   ]
  },
  {
   "cell_type": "code",
   "execution_count": null,
   "id": "54be6441-d3cf-403d-a4b3-3b0f82df66d3",
   "metadata": {},
   "outputs": [],
   "source": [
    "#|exporti\n",
    "if __name__ == '__main__':\n",
    "    app.run(threaded=False)"
   ]
  },
  {
   "cell_type": "code",
   "execution_count": null,
   "id": "a685d222-a60e-49a8-af16-f2264f703034",
   "metadata": {},
   "outputs": [],
   "source": [
    "#|hide\n",
    "from nbdev import nbdev_export; nbdev_export()"
   ]
  }
 ],
 "metadata": {
  "kernelspec": {
   "display_name": "python3",
   "language": "python",
   "name": "python3"
  }
 },
 "nbformat": 4,
 "nbformat_minor": 5
}

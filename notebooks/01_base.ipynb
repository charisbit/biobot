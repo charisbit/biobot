{
 "cells": [
  {
   "cell_type": "code",
   "execution_count": null,
   "metadata": {},
   "outputs": [],
   "source": [
    "#|default_exp base"
   ]
  },
  {
   "cell_type": "code",
   "execution_count": null,
   "metadata": {},
   "outputs": [],
   "source": [
    "#|hide\n",
    "import os\n",
    "notebooks_dir = os.getcwd()\n",
    "project_dir = os.path.dirname(notebooks_dir)\n",
    "\n",
    "import sys\n",
    "sys.path.append(project_dir)"
   ]
  },
  {
   "cell_type": "code",
   "execution_count": null,
   "metadata": {},
   "outputs": [],
   "source": [
    "#|export\n",
    "from dataclasses import dataclass\n",
    "from typing import Optional, List"
   ]
  },
  {
   "cell_type": "code",
   "execution_count": null,
   "metadata": {},
   "outputs": [],
   "source": [
    "#|exports\n",
    "SEPARATOR_TOKEN = '<|endoftext|>'"
   ]
  },
  {
   "cell_type": "code",
   "execution_count": null,
   "metadata": {},
   "outputs": [],
   "source": [
    "#|exports\n",
    "@dataclass(frozen=True)\n",
    "class Message:\n",
    "    user: str\n",
    "    text: Optional[str] = None\n",
    "\n",
    "    def render(self):\n",
    "        result = self.user + ':'\n",
    "        if self.text is not None:\n",
    "            result += ' ' + self.text\n",
    "        return result"
   ]
  },
  {
   "cell_type": "code",
   "execution_count": null,
   "metadata": {},
   "outputs": [],
   "source": [
    "#|exports\n",
    "@dataclass\n",
    "class Conversation:\n",
    "    messages: List[Message]\n",
    "\n",
    "    def prepend(self, message: Message):\n",
    "        self.messages.insert(0, message)\n",
    "        return self\n",
    "\n",
    "    def render(self):\n",
    "        return f'\\n{SEPARATOR_TOKEN}'.join(\n",
    "            [message.render() for message in self.messages]\n",
    "        )"
   ]
  },
  {
   "cell_type": "code",
   "execution_count": null,
   "metadata": {},
   "outputs": [],
   "source": [
    "#|exports\n",
    "@dataclass(frozen=True)\n",
    "class Config:\n",
    "    name: str\n",
    "    instructions: str\n",
    "    example_conversations: List[Conversation]"
   ]
  },
  {
   "cell_type": "code",
   "execution_count": null,
   "metadata": {},
   "outputs": [],
   "source": [
    "#|exports\n",
    "@dataclass(frozen=True)\n",
    "class Prompt:\n",
    "    header: Message\n",
    "    examples: List[Conversation]\n",
    "    convo: Conversation\n",
    "\n",
    "    def render(self):\n",
    "        return f'\\n{SEPARATOR_TOKEN}'.join(\n",
    "            [self.header.render()]\n",
    "            + [Message('System', 'Example conversations:').render()]\n",
    "            + [conversation.render() for conversation in self.examples]\n",
    "            + [Message('System', 'Current conversation:').render()]\n",
    "            + [self.convo.render()],\n",
    "        )"
   ]
  },
  {
   "cell_type": "code",
   "execution_count": null,
   "metadata": {},
   "outputs": [
    {
     "name": "stdout",
     "output_type": "stream",
     "text": [
      "'Here are some base data types.'\n"
     ]
    }
   ],
   "source": [
    "import pprint\n",
    "pprint.PrettyPrinter(indent=4).pprint('Here are some base data types.')"
   ]
  },
  {
   "cell_type": "code",
   "execution_count": null,
   "metadata": {},
   "outputs": [],
   "source": [
    "#|hide\n",
    "from nbdev import nbdev_export; nbdev_export()"
   ]
  }
 ],
 "metadata": {
  "kernelspec": {
   "display_name": "Python 3",
   "language": "python",
   "name": "python3"
  }
 },
 "nbformat": 4,
 "nbformat_minor": 4
}

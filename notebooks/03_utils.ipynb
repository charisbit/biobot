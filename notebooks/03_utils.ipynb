{
 "cells": [
  {
   "cell_type": "code",
   "execution_count": null,
   "metadata": {},
   "outputs": [],
   "source": [
    "#|default_exp utils"
   ]
  },
  {
   "cell_type": "code",
   "execution_count": null,
   "metadata": {},
   "outputs": [],
   "source": [
    "#|hide\n",
    "import os\n",
    "notebooks_dir = os.getcwd()\n",
    "project_dir = os.path.dirname(notebooks_dir)\n",
    "\n",
    "import sys\n",
    "sys.path.append(project_dir)"
   ]
  },
  {
   "cell_type": "code",
   "execution_count": null,
   "metadata": {},
   "outputs": [],
   "source": [
    "#|exports\n",
    "from biobot.constants import (\n",
    "    ALLOWED_SERVER_IDS,\n",
    "    MAX_CHARS_PER_REPLY_MSG,\n",
    "    INACTIVATE_THREAD_PREFIX\n",
    ")"
   ]
  },
  {
   "cell_type": "code",
   "execution_count": null,
   "metadata": {},
   "outputs": [],
   "source": [
    "#|exporti\n",
    "from biobot.base import Message"
   ]
  },
  {
   "cell_type": "code",
   "execution_count": null,
   "metadata": {},
   "outputs": [],
   "source": [
    "#|exporti\n",
    "import logging\n",
    "logger = logging.getLogger(__name__)"
   ]
  },
  {
   "cell_type": "code",
   "execution_count": null,
   "metadata": {},
   "outputs": [],
   "source": [
    "#|export\n",
    "from discord import Message as DiscordMessage\n",
    "from typing import Optional, List\n",
    "import discord\n",
    "\n",
    "\n",
    "def discord_message_to_message(message: DiscordMessage) -> Optional[Message]:\n",
    "    if (\n",
    "        message.type == discord.MessageType.thread_starter_message\n",
    "        and message.reference.cached_message\n",
    "        and len(message.reference.cached_message.embeds) > 0\n",
    "        and len(message.reference.cached_message.embeds[0].fields) > 0\n",
    "    ):\n",
    "        field = message.reference.cached_message.embeds[0].fields[0]\n",
    "        if field.value:\n",
    "            return Message(user=field.name, text=field.value)\n",
    "    else:\n",
    "        if message.content:\n",
    "            return Message(user=message.author.name, text=message.content)\n",
    "    return None\n",
    "\n",
    "\n",
    "def split_into_shorter_messages(message: str) -> List[str]:\n",
    "    return [\n",
    "        message[i : i + MAX_CHARS_PER_REPLY_MSG]\n",
    "        for i in range(0, len(message), MAX_CHARS_PER_REPLY_MSG)\n",
    "    ]\n",
    "\n",
    "\n",
    "def is_last_message_stale(\n",
    "    interaction_message: DiscordMessage, last_message: DiscordMessage, bot_id: str\n",
    ") -> bool:\n",
    "    return (\n",
    "        last_message\n",
    "        and last_message.id != interaction_message.id\n",
    "        and last_message.author\n",
    "        and last_message.author.id != bot_id\n",
    "    )\n",
    "\n",
    "\n",
    "async def close_thread(thread: discord.Thread):\n",
    "    await thread.edit(name=INACTIVATE_THREAD_PREFIX)\n",
    "    await thread.send(\n",
    "        embed=discord.Embed(\n",
    "            description=\"**Thread closed** - Context limit reached, closing...\",\n",
    "            color=discord.Color.blue(),\n",
    "        )\n",
    "    )\n",
    "    await thread.edit(archived=True, locked=True)\n",
    "\n",
    "\n",
    "def should_block(guild: Optional[discord.Guild]) -> bool:\n",
    "    if guild is None:\n",
    "        # dm's not supported\n",
    "        logger.info(f\"DM not supported\")\n",
    "        return True\n",
    "\n",
    "    if guild.id and guild.id not in ALLOWED_SERVER_IDS:\n",
    "        # not allowed in this server\n",
    "        logger.info(f\"Guild {guild} not allowed\")\n",
    "        return True\n",
    "    return False"
   ]
  },
  {
   "cell_type": "code",
   "execution_count": null,
   "metadata": {},
   "outputs": [
    {
     "name": "stdout",
     "output_type": "stream",
     "text": [
      "\"It's utility module.\"\n"
     ]
    }
   ],
   "source": [
    "import pprint\n",
    "pprint.PrettyPrinter(indent=4).pprint(\"It's utility module.\")"
   ]
  },
  {
   "cell_type": "code",
   "execution_count": null,
   "metadata": {},
   "outputs": [],
   "source": [
    "#|hide\n",
    "from nbdev import nbdev_export; nbdev_export()"
   ]
  }
 ],
 "metadata": {
  "kernelspec": {
   "display_name": "python3",
   "language": "python",
   "name": "python3"
  }
 },
 "nbformat": 4,
 "nbformat_minor": 4
}

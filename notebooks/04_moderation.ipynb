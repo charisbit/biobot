{
 "cells": [
  {
   "cell_type": "code",
   "execution_count": null,
   "metadata": {},
   "outputs": [],
   "source": [
    "#|default_exp moderation"
   ]
  },
  {
   "cell_type": "code",
   "execution_count": null,
   "metadata": {},
   "outputs": [],
   "source": [
    "#|hide\n",
    "import os\n",
    "notebooks_dir = os.getcwd()\n",
    "project_dir = os.path.dirname(notebooks_dir)\n",
    "\n",
    "import sys\n",
    "sys.path.append(project_dir)"
   ]
  },
  {
   "cell_type": "code",
   "execution_count": null,
   "metadata": {},
   "outputs": [],
   "source": [
    "#|exporti\n",
    "from biobot.constants import (\n",
    "    SERVER_TO_MODERATION_CHANNEL,\n",
    "    MODERATION_VALUES_FOR_BLOCKED,\n",
    "    MODERATION_VALUES_FOR_FLAGGED,\n",
    ")"
   ]
  },
  {
   "cell_type": "code",
   "execution_count": null,
   "metadata": {},
   "outputs": [],
   "source": [
    "#|exporti\n",
    "from biobot.utils import logger"
   ]
  },
  {
   "cell_type": "code",
   "execution_count": null,
   "metadata": {},
   "outputs": [],
   "source": [
    "#|export\n",
    "import openai\n",
    "from typing import Optional, Tuple\n",
    "import discord\n",
    "\n",
    "\n",
    "def moderate_message(\n",
    "    message: str, user: str\n",
    ") -> Tuple[str, str]:  # [flagged_str, blocked_str]\n",
    "    moderation_response = openai.Moderation.create(\n",
    "        input=message, model=\"text-moderation-latest\"\n",
    "    )\n",
    "    category_scores = moderation_response.results[0][\"category_scores\"] or {}\n",
    "\n",
    "    blocked_str = \"\"\n",
    "    flagged_str = \"\"\n",
    "    for category, score in category_scores.items():\n",
    "        if score > MODERATION_VALUES_FOR_BLOCKED.get(category, 1.0):\n",
    "            blocked_str += f\"({category}: {score})\"\n",
    "            logger.info(f\"blocked {user} {category} {score}\")\n",
    "            break\n",
    "        if score > MODERATION_VALUES_FOR_FLAGGED.get(category, 1.0):\n",
    "            flagged_str += f\"({category}: {score})\"\n",
    "            logger.info(f\"flagged {user} {category} {score}\")\n",
    "    return (flagged_str, blocked_str)\n",
    "\n",
    "\n",
    "async def fetch_moderation_channel(\n",
    "    guild: Optional[discord.Guild],\n",
    ") -> Optional[discord.abc.GuildChannel]:\n",
    "    if not guild or not guild.id:\n",
    "        return None\n",
    "    moderation_channel = SERVER_TO_MODERATION_CHANNEL.get(guild.id, None)\n",
    "    if moderation_channel:\n",
    "        channel = await guild.fetch_channel(moderation_channel)\n",
    "        return channel\n",
    "    return None\n",
    "\n",
    "\n",
    "async def send_moderation_flagged_message(\n",
    "    guild: Optional[discord.Guild],\n",
    "    user: str,\n",
    "    flagged_str: Optional[str],\n",
    "    message: Optional[str],\n",
    "    url: Optional[str],\n",
    "):\n",
    "    if guild and flagged_str and len(flagged_str) > 0:\n",
    "        moderation_channel = await fetch_moderation_channel(guild=guild)\n",
    "        if moderation_channel:\n",
    "            message = message[:100] if message else None\n",
    "            await moderation_channel.send(\n",
    "                f\"⚠️ {user} - {flagged_str} - {message} - {url}\"\n",
    "            )\n",
    "\n",
    "\n",
    "async def send_moderation_blocked_message(\n",
    "    guild: Optional[discord.Guild],\n",
    "    user: str,\n",
    "    blocked_str: Optional[str],\n",
    "    message: Optional[str],\n",
    "):\n",
    "    if guild and blocked_str and len(blocked_str) > 0:\n",
    "        moderation_channel = await fetch_moderation_channel(guild=guild)\n",
    "        if moderation_channel:\n",
    "            message = message[:500] if message else None\n",
    "            await moderation_channel.send(f\"❌ {user} - {blocked_str} - {message}\")"
   ]
  },
  {
   "cell_type": "code",
   "execution_count": null,
   "metadata": {},
   "outputs": [
    {
     "name": "stdout",
     "output_type": "stream",
     "text": [
      "\"It's moderation module.\"\n"
     ]
    }
   ],
   "source": [
    "import pprint\n",
    "pprint.PrettyPrinter(indent=4).pprint(\"It's moderation module.\")"
   ]
  }
 ],
 "metadata": {
  "kernelspec": {
   "display_name": "Python 3 (ipykernel)",
   "language": "python",
   "name": "python3"
  },
  "language_info": {
   "codemirror_mode": {
    "name": "ipython",
    "version": 3
   },
   "file_extension": ".py",
   "mimetype": "text/x-python",
   "name": "python",
   "nbconvert_exporter": "python",
   "pygments_lexer": "ipython3",
   "version": "3.10.9"
  }
 },
 "nbformat": 4,
 "nbformat_minor": 4
}

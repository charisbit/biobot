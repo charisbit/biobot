{
 "cells": [
  {
   "cell_type": "markdown",
   "metadata": {},
   "source": [
    "# Deploy Services using Systemd"
   ]
  },
  {
   "cell_type": "code",
   "execution_count": null,
   "metadata": {},
   "outputs": [],
   "source": [
    "robot_name=discord"
   ]
  },
  {
   "cell_type": "code",
   "execution_count": null,
   "metadata": {},
   "outputs": [],
   "source": [
    "echo -en \"\n",
    "[Unit]\n",
    "Description=A BioGPT Chatbot of Discord.\n",
    "\n",
    "[Service]\n",
    "User=$(whoami)\n",
    "Group=$(whoami)\n",
    "Restart=always\n",
    "Environment=\\\"PYTHONPATH='.'\\\"\n",
    "WorkingDirectory=$(dirname $(pwd))\n",
    "ExecStart=$(which python) -m biobot.${robot_name}\n",
    "\n",
    "[Install]\n",
    "WantedBy=multi-user.target\n",
    "\" > biobot-${robot_name}.service"
   ]
  },
  {
   "cell_type": "code",
   "execution_count": null,
   "metadata": {},
   "outputs": [],
   "source": [
    "echo -en \"\n",
    "init-biobot-${robot_name}:\n",
    "\\t@sudo cp biobot-${robot_name}.service /etc/systemd/system/\n",
    "\\t@sudo systemctl daemon-reload\n",
    "\\t@sudo systemctl enable biobot-${robot_name}.service\n",
    "\n",
    "del-biobot-${robot_name}:\n",
    "\\t@sudo rm /etc/systemd/system/biobot-${robot_name}.service\n",
    "\\t@sudo systemctl daemon-reload\n",
    "\\t@sudo systemctl disable biobot-${robot_name}.service\n",
    "\n",
    "restart-biobot-${robot_name}:\n",
    "\\t@sudo systemctl restart biobot-${robot_name}.service\n",
    "\n",
    "stop-biobot-${robot_name}:\n",
    "\\t@sudo systemctl stop biobot-${robot_name}.service\n",
    "\" >> Makefile"
   ]
  },
  {
   "cell_type": "code",
   "execution_count": null,
   "metadata": {},
   "outputs": [],
   "source": [
    "make init-biobot-${robot_name}"
   ]
  },
  {
   "cell_type": "code",
   "execution_count": null,
   "metadata": {},
   "outputs": [],
   "source": [
    "make restart-biobot-${robot_name}"
   ]
  },
  {
   "cell_type": "code",
   "execution_count": null,
   "metadata": {},
   "outputs": [],
   "source": [
    "make stop-biobot-${robot_name}"
   ]
  },
  {
   "cell_type": "code",
   "execution_count": null,
   "metadata": {},
   "outputs": [],
   "source": [
    "make del-biobot-${robot_name}"
   ]
  }
 ],
 "metadata": {
  "kernelspec": {
   "display_name": "Bash",
   "language": "bash",
   "name": "bash"
  },
  "language_info": {
   "codemirror_mode": "shell",
   "file_extension": ".sh",
   "mimetype": "text/x-sh",
   "name": "bash"
  }
 },
 "nbformat": 4,
 "nbformat_minor": 4
}

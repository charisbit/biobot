{
 "cells": [
  {
   "cell_type": "code",
   "execution_count": null,
   "metadata": {},
   "outputs": [],
   "source": [
    "#|default_exp constants"
   ]
  },
  {
   "cell_type": "code",
   "execution_count": null,
   "metadata": {},
   "outputs": [],
   "source": [
    "#|hide\n",
    "import os\n",
    "notebooks_dir = os.getcwd()\n",
    "project_dir = os.path.dirname(notebooks_dir)\n",
    "\n",
    "import sys\n",
    "sys.path.append(project_dir)"
   ]
  },
  {
   "cell_type": "code",
   "execution_count": null,
   "metadata": {},
   "outputs": [],
   "source": [
    "#|hide\n",
    "__file__ = project_dir + '/biobot/constans.py'"
   ]
  },
  {
   "cell_type": "code",
   "execution_count": null,
   "metadata": {},
   "outputs": [],
   "source": [
    "%%bash\n",
    "pip install 'python-dotenv==0.21.*'"
   ]
  },
  {
   "cell_type": "code",
   "execution_count": null,
   "metadata": {},
   "outputs": [
    {
     "data": {
      "text/plain": [
       "True"
      ]
     },
     "execution_count": null,
     "metadata": {},
     "output_type": "execute_result"
    }
   ],
   "source": [
    "#|exports\n",
    "from dotenv import load_dotenv\n",
    "load_dotenv()"
   ]
  },
  {
   "cell_type": "code",
   "execution_count": null,
   "metadata": {},
   "outputs": [
    {
     "name": "stdout",
     "output_type": "stream",
     "text": [
      "<function load_dotenv at 0x10afe05e0>\n"
     ]
    }
   ],
   "source": [
    "import pprint\n",
    "pprint.PrettyPrinter(indent=4).pprint(load_dotenv)"
   ]
  },
  {
   "cell_type": "code",
   "execution_count": null,
   "metadata": {},
   "outputs": [
    {
     "name": "stdout",
     "output_type": "stream",
     "text": [
      "Help on function load_dotenv in module dotenv.main:\n",
      "\n",
      "load_dotenv(dotenv_path: Union[str, ForwardRef('os.PathLike[str]'), NoneType] = None, stream: Optional[IO[str]] = None, verbose: bool = False, override: bool = False, interpolate: bool = True, encoding: Optional[str] = 'utf-8') -> bool\n",
      "    Parse a .env file and then load all the variables found as environment variables.\n",
      "    \n",
      "    Parameters:\n",
      "        dotenv_path: Absolute or relative path to .env file.\n",
      "        stream: Text stream (such as `io.StringIO`) with .env content, used if\n",
      "            `dotenv_path` is `None`.\n",
      "        verbose: Whether to output a warning the .env file is missing.\n",
      "        override: Whether to override the system environment variables with the variables\n",
      "            from the `.env` file.\n",
      "        encoding: Encoding to be used to read the file.\n",
      "    Returns:\n",
      "        Bool: True if at least one environment variable is set else False\n",
      "    \n",
      "    If both `dotenv_path` and `stream` are `None`, `find_dotenv()` is used to find the\n",
      "    .env file.\n",
      "\n"
     ]
    }
   ],
   "source": [
    "help(load_dotenv)"
   ]
  },
  {
   "cell_type": "code",
   "execution_count": null,
   "metadata": {},
   "outputs": [
    {
     "name": "stdout",
     "output_type": "stream",
     "text": [
      "Help on function find_dotenv in module dotenv.main:\n",
      "\n",
      "find_dotenv(filename: str = '.env', raise_error_if_not_found: bool = False, usecwd: bool = False) -> str\n",
      "    Search in increasingly higher folders for the given file\n",
      "    \n",
      "    Returns path to the file if found, or an empty string otherwise\n",
      "\n"
     ]
    }
   ],
   "source": [
    "from dotenv import find_dotenv\n",
    "help(find_dotenv)"
   ]
  },
  {
   "cell_type": "code",
   "execution_count": null,
   "metadata": {},
   "outputs": [],
   "source": [
    "#|exporti\n",
    "import os\n",
    "import dacite\n",
    "import yaml\n",
    "from typing import Dict, List"
   ]
  },
  {
   "cell_type": "code",
   "execution_count": null,
   "metadata": {},
   "outputs": [],
   "source": [
    "#|exporti\n",
    "from biobot.base import Config"
   ]
  },
  {
   "cell_type": "code",
   "execution_count": null,
   "metadata": {},
   "outputs": [],
   "source": [
    "#|export\n",
    "# load config.yaml\n",
    "SCRIPT_DIR = os.path.dirname(os.path.realpath(__file__))\n",
    "CONFIG: Config = dacite.from_dict(\n",
    "    Config, yaml.safe_load(open(os.path.join(SCRIPT_DIR, 'config.yaml'), 'r'))\n",
    ")\n",
    "\n",
    "BOT_NAME = CONFIG.name\n",
    "BOT_INSTRUCTIONS = CONFIG.instructions\n",
    "EXAMPLE_CONVOS = CONFIG.example_conversations\n",
    "\n",
    "DISCORD_BOT_TOKEN = os.environ['DISCORD_BOT_TOKEN']\n",
    "DISCORD_CLIENT_ID = os.environ['DISCORD_CLIENT_ID']\n",
    "OPENAI_API_KEY = os.environ['OPENAI_API_KEY']"
   ]
  },
  {
   "cell_type": "code",
   "execution_count": null,
   "metadata": {},
   "outputs": [],
   "source": [
    "#|export\n",
    "ALLOWED_SERVER_IDS: List[int] = []"
   ]
  },
  {
   "cell_type": "code",
   "execution_count": null,
   "metadata": {},
   "outputs": [],
   "source": [
    "#|exporti\n",
    "server_ids = os.environ['ALLOWED_SERVER_IDS'].split(',')\n",
    "for s in server_ids:\n",
    "    ALLOWED_SERVER_IDS.append(int(s))"
   ]
  },
  {
   "cell_type": "code",
   "execution_count": null,
   "metadata": {},
   "outputs": [],
   "source": [
    "#|export\n",
    "SERVER_TO_MODERATION_CHANNEL: Dict[int, int] = {}"
   ]
  },
  {
   "cell_type": "code",
   "execution_count": null,
   "metadata": {},
   "outputs": [],
   "source": [
    "#|exporti\n",
    "server_channels = os.environ.get('SERVER_TO_MODERATION_CHANNEL', '').split(',')\n",
    "for s in server_channels:\n",
    "    values = s.split(':')\n",
    "    SERVER_TO_MODERATION_CHANNEL[int(values[0])] = int(values[1])"
   ]
  },
  {
   "cell_type": "code",
   "execution_count": null,
   "metadata": {},
   "outputs": [],
   "source": [
    "#|export\n",
    "# Send Messages, Create Public Threads, Send Messages in Threads, Manage Messages, Manage Threads, Read Message History, Use Slash Command\n",
    "BOT_INVITE_URL = f'https://discord.com/api/oauth2/authorize?client_id={DISCORD_CLIENT_ID}&permissions=328565073920&scope=bot'\n",
    "\n",
    "MODERATION_VALUES_FOR_BLOCKED = {\n",
    "    'hate': 0.5,\n",
    "    'hate/threatening': 0.1,\n",
    "    'self-harm': 0.2,\n",
    "    'sexual': 0.5,\n",
    "    'sexual/minors': 0.2,\n",
    "    'violence': 0.7,\n",
    "    'violence/graphic': 0.8,\n",
    "}\n",
    "\n",
    "MODERATION_VALUES_FOR_FLAGGED = {\n",
    "    'hate': 0.4,\n",
    "    'hate/threatening': 0.05,\n",
    "    'self-harm': 0.1,\n",
    "    'sexual': 0.3,\n",
    "    'sexual/minors': 0.1,\n",
    "    'violence': 0.1,\n",
    "    'violence/graphic': 0.1,\n",
    "}\n",
    "\n",
    "SECONDS_DELAY_RECEIVING_MSG = (\n",
    "    3  # give a delay for the bot to respond so it can catch multiple messages\n",
    ")\n",
    "MAX_THREAD_MESSAGES = 200\n",
    "ACTIVATE_THREAD_PREFX = '💬✅'\n",
    "INACTIVATE_THREAD_PREFIX = '💬❌'\n",
    "MAX_CHARS_PER_REPLY_MSG = (\n",
    "    1500  # discord has a 2k limit, we just break message into 1.5k\n",
    ")"
   ]
  },
  {
   "cell_type": "code",
   "execution_count": null,
   "metadata": {},
   "outputs": [],
   "source": [
    "#|hide\n",
    "from nbdev import nbdev_export; nbdev_export()"
   ]
  }
 ],
 "metadata": {
  "kernelspec": {
   "display_name": "Python 3 (ipykernel)",
   "language": "python",
   "name": "python3"
  }
 },
 "nbformat": 4,
 "nbformat_minor": 4
}
